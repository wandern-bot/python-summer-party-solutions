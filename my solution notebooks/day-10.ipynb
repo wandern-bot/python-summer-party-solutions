{
  "cells": [
    {
      "cell_type": "markdown",
      "metadata": {},
      "source": [
        "# Day 10: App Store Ratings Performance by App Category"
      ]
    },
    {
      "cell_type": "markdown",
      "metadata": {},
      "source": [
        "You are a Product Analyst for the Apple App Store team investigating app ratings data. Your focus is to clean and understand rating distributions across different app categories. The team wants to leverage basic statistical insights to guide app performance strategies."
      ]
    },
    {
      "cell_type": "code",
      "metadata": {},
      "execution_count": null,
      "outputs": [],
      "source": "import pandas as pd\nimport numpy as np\n\napp_ratings_data = [\n  {\n    \"app_id\": \"app001\",\n    \"rating\": \"4.5\",\n    \"category\": \"Games\",\n    \"review_date\": \"2024-07-05\"\n  },\n  {\n    \"app_id\": \"app002\",\n    \"rating\": \"3.9\",\n    \"category\": \"Productivity\",\n    \"review_date\": \"2024-07-06\"\n  },\n  {\n    \"app_id\": \"app001\",\n    \"rating\": \"4.7\",\n    \"category\": \"Games\",\n    \"review_date\": \"2024-07-10\"\n  },\n  {\n    \"app_id\": \"app003\",\n    \"rating\": \" 4.0 \",\n    \"category\": \"Health & Fitness\",\n    \"review_date\": \"2024-08-15\"\n  },\n  {\n    \"app_id\": \"app004\",\n    \"rating\": \"five\",\n    \"category\": \"Education\",\n    \"review_date\": \"2024-09-01\"\n  },\n  {\n    \"app_id\": \"app005\",\n    \"rating\": null,\n    \"category\": \"Games\",\n    \"review_date\": \"2024-10-11\"\n  },\n  {\n    \"app_id\": \"app006\",\n    \"rating\": \"4.2\",\n    \"category\": \"Lifestyle\",\n    \"review_date\": \"2024-10-20\"\n  },\n  {\n    \"app_id\": \"app007\",\n    \"rating\": \"4\",\n    \"category\": \"Utilities\",\n    \"review_date\": \"2024-11-15\"\n  },\n  {\n    \"app_id\": \"app008\",\n    \"rating\": \"3.5\",\n    \"category\": \"Entertainment\",\n    \"review_date\": \"2024-12-01\"\n  },\n  {\n    \"app_id\": \"app009\",\n    \"rating\": \"4.9\",\n    \"category\": \"Health & Fitness\",\n    \"review_date\": \"2024-12-15\"\n  },\n  {\n    \"app_id\": \"app010\",\n    \"rating\": \"4,2\",\n    \"category\": \"Games\",\n    \"review_date\": \"2025-01-07\"\n  },\n  {\n    \"app_id\": \"app011\",\n    \"rating\": \"3.5\",\n    \"category\": \"Productivity\",\n    \"review_date\": \"2025-01-15\"\n  },\n  {\n    \"app_id\": \"app012\",\n    \"rating\": \"4.0\",\n    \"category\": \"Education\",\n    \"review_date\": \"2025-01-20\"\n  },\n  {\n    \"app_id\": \"app013\",\n    \"rating\": \"2.1\",\n    \"category\": \"Games\",\n    \"review_date\": \"2025-02-14\"\n  },\n  {\n    \"app_id\": \"app014\",\n    \"rating\": \"3.8\",\n    \"category\": \"Lifestyle\",\n    \"review_date\": \"2025-02-20\"\n  },\n  {\n    \"app_id\": \"app015\",\n    \"rating\": \"4.5\",\n    \"category\": \"Games\",\n    \"review_date\": \"2025-03-03\"\n  },\n  {\n    \"app_id\": \"app016\",\n    \"rating\": \"3.3\",\n    \"category\": \"Utilities\",\n    \"review_date\": \"2025-03-12\"\n  },\n  {\n    \"app_id\": \"app017\",\n    \"rating\": \"4.8\",\n    \"category\": \"Entertainment\",\n    \"review_date\": \"2025-03-20\"\n  },\n  {\n    \"app_id\": \"app018\",\n    \"rating\": \"4.6\",\n    \"category\": \"Health & Fitness\",\n    \"review_date\": \"2025-04-01\"\n  },\n  {\n    \"app_id\": \"app019\",\n    \"rating\": null,\n    \"category\": \"Education\",\n    \"review_date\": \"2025-04-10\"\n  },\n  {\n    \"app_id\": \"app020\",\n    \"rating\": \"3.2\",\n    \"category\": \"Games\",\n    \"review_date\": \"2025-04-15\"\n  },\n  {\n    \"app_id\": \"app002\",\n    \"rating\": \"3.7\",\n    \"category\": \"Productivity\",\n    \"review_date\": \"2025-04-20\"\n  },\n  {\n    \"app_id\": \"app003\",\n    \"rating\": \"4.0\",\n    \"category\": \"Health & Fitness\",\n    \"review_date\": \"2025-05-01\"\n  },\n  {\n    \"app_id\": \"app001\",\n    \"rating\": \"4.6\",\n    \"category\": \"Games\",\n    \"review_date\": \"2025-05-05\"\n  },\n  {\n    \"app_id\": \"app004\",\n    \"rating\": \"5\",\n    \"category\": \"Education\",\n    \"review_date\": \"2025-05-11\"\n  },\n  {\n    \"app_id\": \"app005\",\n    \"rating\": \"6.0\",\n    \"category\": \"Games\",\n    \"review_date\": \"2025-05-13\"\n  },\n  {\n    \"app_id\": \"app006\",\n    \"rating\": \"4.1\",\n    \"category\": \"Lifestyle\",\n    \"review_date\": \"2025-05-15\"\n  },\n  {\n    \"app_id\": \"app007\",\n    \"rating\": \"3.0\",\n    \"category\": \"Utilities\",\n    \"review_date\": \"2025-05-20\"\n  },\n  {\n    \"app_id\": \"app008\",\n    \"rating\": \"4.2\",\n    \"category\": \"Entertainment\",\n    \"review_date\": \"2025-06-02\"\n  },\n  {\n    \"app_id\": \"app009\",\n    \"rating\": \"4.4\",\n    \"category\": \"Health & Fitness\",\n    \"review_date\": \"2025-06-07\"\n  },\n  {\n    \"app_id\": \"app010\",\n    \"rating\": \"3.5\",\n    \"category\": \"Games\",\n    \"review_date\": \"2025-06-10\"\n  },\n  {\n    \"app_id\": \"app011\",\n    \"rating\": \"4.0\",\n    \"category\": \"Productivity\",\n    \"review_date\": \"2025-06-12\"\n  },\n  {\n    \"app_id\": \"app012\",\n    \"rating\": \"4.3\",\n    \"category\": \"Education\",\n    \"review_date\": \"2025-06-15\"\n  },\n  {\n    \"app_id\": \"app013\",\n    \"rating\": \"4.1\",\n    \"category\": \"Games\",\n    \"review_date\": \"2025-06-18\"\n  },\n  {\n    \"app_id\": \"app014\",\n    \"rating\": \"not available\",\n    \"category\": \"Lifestyle\",\n    \"review_date\": \"2025-06-20\"\n  },\n  {\n    \"app_id\": \"app015\",\n    \"rating\": \"3.9\",\n    \"category\": \"Games\",\n    \"review_date\": \"2025-06-21\"\n  },\n  {\n    \"app_id\": \"app016\",\n    \"rating\": \"4.6\",\n    \"category\": \"Utilities\",\n    \"review_date\": \"2025-06-22\"\n  },\n  {\n    \"app_id\": \"app017\",\n    \"rating\": \"4.0\",\n    \"category\": \"Entertainment\",\n    \"review_date\": \"2024-07-07\"\n  },\n  {\n    \"app_id\": \"app018\",\n    \"rating\": \"3.8\",\n    \"category\": \"Health & Fitness\",\n    \"review_date\": \"2024-07-08\"\n  },\n  {\n    \"app_id\": \"app019\",\n    \"rating\": \"4.2\",\n    \"category\": \"Education\",\n    \"review_date\": \"2024-07-09\"\n  },\n  {\n    \"app_id\": \"app020\",\n    \"rating\": \"4.7\",\n    \"category\": \"Games\",\n    \"review_date\": \"2024-07-10\"\n  },\n  {\n    \"app_id\": \"app002\",\n    \"rating\": \"3.8\",\n    \"category\": \"Productivity\",\n    \"review_date\": \"2024-07-11\"\n  },\n  {\n    \"app_id\": \"app003\",\n    \"rating\": \"4.3\",\n    \"category\": \"Health & Fitness\",\n    \"review_date\": \"2024-07-12\"\n  },\n  {\n    \"app_id\": \"app004\",\n    \"rating\": \"4.4\",\n    \"category\": \"Education\",\n    \"review_date\": \"2024-07-13\"\n  },\n  {\n    \"app_id\": \"app005\",\n    \"rating\": \"4.5\",\n    \"category\": \"Games\",\n    \"review_date\": \"2024-07-14\"\n  },\n  {\n    \"app_id\": \"app006\",\n    \"rating\": \"4.0\",\n    \"category\": \"Lifestyle\",\n    \"review_date\": \"2024-07-15\"\n  },\n  {\n    \"app_id\": \"app007\",\n    \"rating\": null,\n    \"category\": \"Utilities\",\n    \"review_date\": \"2024-07-16\"\n  },\n  {\n    \"app_id\": \"app008\",\n    \"rating\": \"4.6\",\n    \"category\": \"Entertainment\",\n    \"review_date\": \"2024-07-17\"\n  },\n  {\n    \"app_id\": \"app009\",\n    \"rating\": \"3.9\",\n    \"category\": \"Health & Fitness\",\n    \"review_date\": \"2024-07-18\"\n  },\n  {\n    \"app_id\": \"app010\",\n    \"rating\": \"4.1\",\n    \"category\": \"Games\",\n    \"review_date\": \"2024-07-19\"\n  }\n]\napp_ratings = pd.DataFrame(app_ratings_data)\n"
    },
    {
      "cell_type": "markdown",
      "metadata": {},
      "source": [
        "## Question 1\n\nThere are some data inconsistencies in the 'rating' column, specifically: leading or trailing white space, decimals represented by commas instead of decimal points (eg. 4,2 instead of 4.2), and non-numeric values. Clean up these data issues and convert the column to a numeric data type."
      ]
    },
    {
      "cell_type": "code",
      "metadata": {},
      "execution_count": null,
      "outputs": [],
      "source": "# Note: pandas and numpy are already imported as pd and np\n# The following tables are loaded as pandas DataFrames with the same names: app_ratings\n# Please print your final result or dataframe\n\napp_ratings['rating'] = app_ratings['rating'].str.strip()\napp_ratings['rating'] = app_ratings['rating'].str.replace(',' , '.')\napp_ratings['rating'] = app_ratings['rating'].str.replace('five','5').replace('not available',None).astype(float)\napp_ratings['rating'] = pd.to_numeric(app_ratings['rating'], errors='coerce')\n\n#app_ratings['rating'] = app_ratings['rating'].fillna(0)\napp_ratings"
    },
    {
      "cell_type": "markdown",
      "metadata": {},
      "source": [
        "## Question 2\n\nUsing the cleaned dataset, display the first and last five entries to get an overview of the app ratings across different categories."
      ]
    },
    {
      "cell_type": "code",
      "metadata": {},
      "execution_count": null,
      "outputs": [],
      "source": "app_ratings['rating'] = app_ratings['rating'].str.strip()\napp_ratings['rating'] = app_ratings['rating'].str.replace(',' , '.')\napp_ratings['rating'] = app_ratings['rating'].str.replace('five','5').replace('not available',None)\napp_ratings['rating'] = pd.to_numeric(app_ratings['rating'], errors='coerce') \n\n\napp_ratings.head(5)\napp_ratings.tail(5)\n\npd.concat([app_ratings.head(5),app_ratings.tail(5)])"
    },
    {
      "cell_type": "markdown",
      "metadata": {},
      "source": [
        "## Question 3\n\nCalculate the basic summary statistics (mean, median, standard deviation) of app ratings for each category to identify variations and performance patterns."
      ]
    },
    {
      "cell_type": "code",
      "metadata": {},
      "execution_count": null,
      "outputs": [],
      "source": "app_ratings['rating'] = app_ratings['rating'].str.strip()\napp_ratings['rating'] = app_ratings['rating'].str.replace(',' , '.')\napp_ratings['rating'] = app_ratings['rating'].str.replace('five','5').replace('not available',None)\napp_ratings['rating'] = pd.to_numeric(app_ratings['rating'], errors='coerce') \n\napp_ratings_summ = app_ratings.groupby('category')['rating'].agg(['mean','median','std'])\napp_ratings_summ"
    },
    {
      "cell_type": "markdown",
      "metadata": {},
      "source": [
        "Made with ❤️ by [Interview Master](https://www.interviewmaster.ai)"
      ]
    }
  ],
  "metadata": {
    "kernelspec": {
      "name": "python3",
      "language": "python",
      "display_name": "Python 3"
    },
    "language_info": {
      "name": "python",
      "version": "3",
      "mimetype": "text/x-python",
      "file_extension": ".py"
    }
  },
  "nbformat": 4,
  "nbformat_minor": 5
}
