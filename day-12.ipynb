{
  "cells": [
    {
      "cell_type": "markdown",
      "metadata": {},
      "source": [
        "# Day 12: E-commerce Returns Customer Segmentation Model"
      ]
    },
    {
      "cell_type": "markdown",
      "metadata": {},
      "source": [
        "You are a Data Analyst on the Walmart.com Insights team investigating customer return patterns. The team aims to develop a predictive approach to understanding customer return behaviors across different time periods. Your goal is to leverage transaction data to create a comprehensive view of customer return likelihood."
      ]
    },
    {
      "cell_type": "code",
      "metadata": {},
      "execution_count": null,
      "outputs": [],
      "source": "import pandas as pd\nimport numpy as np\n\ncustomer_returns_data = [\n  {\n    \"order_id\": \"ORD0001\",\n    \"order_date\": \"2024-07-05\",\n    \"customer_id\": \"CUST001\",\n    \"return_flag\": true,\n    \"order_amount\": 120.5\n  },\n  {\n    \"order_id\": \"ORD0002\",\n    \"order_date\": \"2024-07-10\",\n    \"customer_id\": \"CUST002\",\n    \"return_flag\": false,\n    \"order_amount\": 75\n  },\n  {\n    \"order_id\": \"ORD0003\",\n    \"order_date\": \"2024-08-15\",\n    \"customer_id\": \"CUST001\",\n    \"return_flag\": true,\n    \"order_amount\": 90\n  },\n  {\n    \"order_id\": \"ORD0004\",\n    \"order_date\": \"2024/09/01\",\n    \"customer_id\": \"CUST003\",\n    \"return_flag\": false,\n    \"order_amount\": 45\n  },\n  {\n    \"order_id\": \"ORD0005\",\n    \"order_date\": \"2024-10-20\",\n    \"customer_id\": \"CUST004\",\n    \"return_flag\": true,\n    \"order_amount\": 200\n  },\n  {\n    \"order_id\": \"ORD0006\",\n    \"order_date\": \"2024-11-11\",\n    \"customer_id\": \"CUST002\",\n    \"return_flag\": true,\n    \"order_amount\": null\n  },\n  {\n    \"order_id\": \"ORD0007\",\n    \"order_date\": \"2024-11-15\",\n    \"customer_id\": \"CUST005\",\n    \"return_flag\": false,\n    \"order_amount\": 60\n  },\n  {\n    \"order_id\": \"ORD0008\",\n    \"order_date\": \"2024-12-05\",\n    \"customer_id\": \"CUST006\",\n    \"return_flag\": true,\n    \"order_amount\": 150\n  },\n  {\n    \"order_id\": \"ORD0009\",\n    \"order_date\": \"2024-12-25\",\n    \"customer_id\": \"CUST007\",\n    \"return_flag\": false,\n    \"order_amount\": 85\n  },\n  {\n    \"order_id\": \"ORD0010\",\n    \"order_date\": \"2025-01-10\",\n    \"customer_id\": \"CUST001\",\n    \"return_flag\": true,\n    \"order_amount\": 130\n  },\n  {\n    \"order_id\": \"ORD0011\",\n    \"order_date\": \"2025-01-15\",\n    \"customer_id\": \"CUST008\",\n    \"return_flag\": false,\n    \"order_amount\": 50\n  },\n  {\n    \"order_id\": \"ORD0012\",\n    \"order_date\": \"2025-02-10\",\n    \"customer_id\": \"CUST009\",\n    \"return_flag\": true,\n    \"order_amount\": 110\n  },\n  {\n    \"order_id\": \"ORD0013\",\n    \"order_date\": \"2025-02-14\",\n    \"customer_id\": \"CUST010\",\n    \"return_flag\": false,\n    \"order_amount\": 100\n  },\n  {\n    \"order_id\": \"ORD0014\",\n    \"order_date\": \"2025-03-03\",\n    \"customer_id\": \"CUST005\",\n    \"return_flag\": true,\n    \"order_amount\": 77.5\n  },\n  {\n    \"order_id\": \"ORD0015\",\n    \"order_date\": null,\n    \"customer_id\": \"CUST002\",\n    \"return_flag\": false,\n    \"order_amount\": 65\n  },\n  {\n    \"order_id\": \"ORD0016\",\n    \"order_date\": \"2025-03-20\",\n    \"customer_id\": \"CUST003\",\n    \"return_flag\": true,\n    \"order_amount\": 180\n  },\n  {\n    \"order_id\": \"ORD0017\",\n    \"order_date\": \"2025-04-01\",\n    \"customer_id\": \"CUST004\",\n    \"return_flag\": false,\n    \"order_amount\": 95\n  },\n  {\n    \"order_id\": \"ORD0018\",\n    \"order_date\": \"2025-04-15\",\n    \"customer_id\": \"CUST006\",\n    \"return_flag\": true,\n    \"order_amount\": 210\n  },\n  {\n    \"order_id\": \"ORD0019\",\n    \"order_date\": \"2025-05-05\",\n    \"customer_id\": \"CUST007\",\n    \"return_flag\": true,\n    \"order_amount\": 55\n  },\n  {\n    \"order_id\": \"ORD0020\",\n    \"order_date\": \"2025-05-20\",\n    \"customer_id\": \"CUST008\",\n    \"return_flag\": false,\n    \"order_amount\": 145\n  },\n  {\n    \"order_id\": \"ORD0021\",\n    \"order_date\": \"2025-06-01\",\n    \"customer_id\": \"CUST009\",\n    \"return_flag\": true,\n    \"order_amount\": 85\n  },\n  {\n    \"order_id\": \"ORD0022\",\n    \"order_date\": \"2025-06-10\",\n    \"customer_id\": \"CUST010\",\n    \"return_flag\": false,\n    \"order_amount\": 190\n  },\n  {\n    \"order_id\": \"ORD0023\",\n    \"order_date\": \"2024-07-20\",\n    \"customer_id\": \"CUST001\",\n    \"return_flag\": true,\n    \"order_amount\": 130.5\n  },\n  {\n    \"order_id\": \"ORD0024\",\n    \"order_date\": \"2024-08-05\",\n    \"customer_id\": \"CUST002\",\n    \"return_flag\": false,\n    \"order_amount\": 60\n  },\n  {\n    \"order_id\": \"ORD0025\",\n    \"order_date\": \"2024-09-10\",\n    \"customer_id\": \"CUST003\",\n    \"return_flag\": true,\n    \"order_amount\": 300\n  },\n  {\n    \"order_id\": \"ORD0026\",\n    \"order_date\": \"2024-10-30\",\n    \"customer_id\": \"CUST004\",\n    \"return_flag\": false,\n    \"order_amount\": null\n  },\n  {\n    \"order_id\": \"ORD0027\",\n    \"order_date\": \"2024-11-20\",\n    \"customer_id\": \"CUST005\",\n    \"return_flag\": true,\n    \"order_amount\": 40\n  },\n  {\n    \"order_id\": \"ORD0028\",\n    \"order_date\": \"2024-12-15\",\n    \"customer_id\": \"CUST006\",\n    \"return_flag\": false,\n    \"order_amount\": 65\n  },\n  {\n    \"order_id\": \"ORD0029\",\n    \"order_date\": \"2025-01-05\",\n    \"customer_id\": \"CUST007\",\n    \"return_flag\": true,\n    \"order_amount\": 115\n  },\n  {\n    \"order_id\": \"ORD0030\",\n    \"order_date\": \"2025-01-25\",\n    \"customer_id\": \"CUST008\",\n    \"return_flag\": false,\n    \"order_amount\": 68\n  },\n  {\n    \"order_id\": \"ORD0031\",\n    \"order_date\": \"2025-02-20\",\n    \"customer_id\": \"CUST009\",\n    \"return_flag\": true,\n    \"order_amount\": 99.9\n  },\n  {\n    \"order_id\": \"ORD0032\",\n    \"order_date\": \"2025-03-10\",\n    \"customer_id\": \"CUST010\",\n    \"return_flag\": false,\n    \"order_amount\": 47\n  },\n  {\n    \"order_id\": \"ORD0033\",\n    \"order_date\": \"2025-03-15\",\n    \"customer_id\": \"CUST001\",\n    \"return_flag\": true,\n    \"order_amount\": 130\n  },\n  {\n    \"order_id\": \"ORD0034\",\n    \"order_date\": \"2025-04-05\",\n    \"customer_id\": \"CUST002\",\n    \"return_flag\": false,\n    \"order_amount\": 80\n  },\n  {\n    \"order_id\": \"ORD0035\",\n    \"order_date\": \"2025-04-20\",\n    \"customer_id\": \"CUST003\",\n    \"return_flag\": true,\n    \"order_amount\": 220\n  },\n  {\n    \"order_id\": \"ORD0036\",\n    \"order_date\": \"2025-05-15\",\n    \"customer_id\": \"CUST004\",\n    \"return_flag\": false,\n    \"order_amount\": 90\n  },\n  {\n    \"order_id\": \"ORD0037\",\n    \"order_date\": \"2025-06-05\",\n    \"customer_id\": \"CUST005\",\n    \"return_flag\": true,\n    \"order_amount\": 55.5\n  },\n  {\n    \"order_id\": \"ORD0038\",\n    \"order_date\": \"2024-07-25\",\n    \"customer_id\": \"CUST006\",\n    \"return_flag\": false,\n    \"order_amount\": 105\n  },\n  {\n    \"order_id\": \"ORD0039\",\n    \"order_date\": \"2024-08-15\",\n    \"customer_id\": \"CUST007\",\n    \"return_flag\": true,\n    \"order_amount\": null\n  },\n  {\n    \"order_id\": \"ORD0040\",\n    \"order_date\": \"2024-09-05\",\n    \"customer_id\": \"CUST008\",\n    \"return_flag\": false,\n    \"order_amount\": 78\n  },\n  {\n    \"order_id\": \"ORD0041\",\n    \"order_date\": \"2024-10-10\",\n    \"customer_id\": \"CUST009\",\n    \"return_flag\": true,\n    \"order_amount\": 165\n  },\n  {\n    \"order_id\": \"ORD0042\",\n    \"order_date\": \"2024-11-30\",\n    \"customer_id\": \"CUST010\",\n    \"return_flag\": false,\n    \"order_amount\": 88\n  },\n  {\n    \"order_id\": \"ORD0043\",\n    \"order_date\": \"2025-06-25\",\n    \"customer_id\": \"CUST001\",\n    \"return_flag\": true,\n    \"order_amount\": 250\n  },\n  {\n    \"order_id\": \"ORD0044\",\n    \"order_date\": \"2025-06-28\",\n    \"customer_id\": \"CUST002\",\n    \"return_flag\": false,\n    \"order_amount\": 47.7\n  },\n  {\n    \"order_id\": \"ORD0045\",\n    \"order_date\": \"2025-06-30\",\n    \"customer_id\": \"CUST003\",\n    \"return_flag\": true,\n    \"order_amount\": 99\n  },\n  {\n    \"order_id\": \"ORD0046\",\n    \"order_date\": \"2024-07-07\",\n    \"customer_id\": \"CUST004\",\n    \"return_flag\": false,\n    \"order_amount\": 115\n  },\n  {\n    \"order_id\": \"ORD0047\",\n    \"order_date\": \"2024-08-09\",\n    \"customer_id\": \"CUST005\",\n    \"return_flag\": true,\n    \"order_amount\": 152\n  },\n  {\n    \"order_id\": \"ORD0048\",\n    \"order_date\": \"2024-09-11\",\n    \"customer_id\": \"CUST006\",\n    \"return_flag\": false,\n    \"order_amount\": 67\n  },\n  {\n    \"order_id\": \"ORD0049\",\n    \"order_date\": \"2024-10-12\",\n    \"customer_id\": \"CUST007\",\n    \"return_flag\": true,\n    \"order_amount\": 190\n  },\n  {\n    \"order_id\": \"ORD0050\",\n    \"order_date\": \"2024-11-13\",\n    \"customer_id\": \"CUST008\",\n    \"return_flag\": false,\n    \"order_amount\": 82\n  },\n  {\n    \"order_id\": \"ORD0051\",\n    \"order_date\": \"2024-12-01\",\n    \"customer_id\": \"CUST009\",\n    \"return_flag\": true,\n    \"order_amount\": 140\n  },\n  {\n    \"order_id\": \"ORD0052\",\n    \"order_date\": \"2024-12-15\",\n    \"customer_id\": \"CUST010\",\n    \"return_flag\": false,\n    \"order_amount\": 77\n  },\n  {\n    \"order_id\": \"ORD0052\",\n    \"order_date\": \"2024-12-15\",\n    \"customer_id\": \"CUST010\",\n    \"return_flag\": false,\n    \"order_amount\": 77\n  },\n  {\n    \"order_id\": \"ORD0053\",\n    \"order_date\": \"2025-01-20\",\n    \"customer_id\": \"CUST001\",\n    \"return_flag\": true,\n    \"order_amount\": 134\n  },\n  {\n    \"order_id\": \"ORD0054\",\n    \"order_date\": \"2025-02-25\",\n    \"customer_id\": \"CUST002\",\n    \"return_flag\": false,\n    \"order_amount\": 95\n  },\n  {\n    \"order_id\": \"ORD0055\",\n    \"order_date\": \"2025-03-25\",\n    \"customer_id\": \"CUST003\",\n    \"return_flag\": true,\n    \"order_amount\": 202\n  },\n  {\n    \"order_id\": \"ORD0056\",\n    \"order_date\": \"2025-04-25\",\n    \"customer_id\": \"CUST004\",\n    \"return_flag\": false,\n    \"order_amount\": null\n  },\n  {\n    \"order_id\": \"ORD0057\",\n    \"order_date\": \"2025-05-30\",\n    \"customer_id\": \"CUST005\",\n    \"return_flag\": true,\n    \"order_amount\": 65\n  },\n  {\n    \"order_id\": \"ORD0058\",\n    \"order_date\": \"2025-06-12\",\n    \"customer_id\": \"CUST006\",\n    \"return_flag\": false,\n    \"order_amount\": 88.8\n  },\n  {\n    \"order_id\": \"ORD0059\",\n    \"order_date\": \"2025-06-18\",\n    \"customer_id\": \"CUST007\",\n    \"return_flag\": true,\n    \"order_amount\": 320\n  }\n]\ncustomer_returns = pd.DataFrame(customer_returns_data)\n"
    },
    {
      "cell_type": "markdown",
      "metadata": {},
      "source": [
        "## Question 1\n\nIdentify and list all unique customer IDs who have made returns between July 1st 2024 and June 30th 2025. This will help us understand the base set of customers involved in returns during the specified period."
      ]
    },
    {
      "cell_type": "code",
      "metadata": {},
      "execution_count": null,
      "outputs": [],
      "source": "# Note: pandas and numpy are already imported as pd and np\n# The following tables are loaded as pandas DataFrames with the same names: customer_returns\n# Please print your final result or dataframe\n\ncustomer_list=(\n  customer_returns[\n    customer_returns['order_date'].between('2024-07-01','2025-06-30',inclusive='both')\n    ].query('return_flag')\n)['customer_id'].unique()\ncustomer_list"
    },
    {
      "cell_type": "markdown",
      "metadata": {},
      "source": [
        "## Question 2\n\nConvert the 'order_date' column to a datetime format and create a MultiIndex with 'customer_id' and 'order_date'. Then, calculate the total number of returns per customer for each month. This will provide insights into monthly return patterns for each customer."
      ]
    },
    {
      "cell_type": "code",
      "metadata": {},
      "execution_count": null,
      "outputs": [],
      "source": "customer_returns['order_date'] = pd.to_datetime(\n  customer_returns['order_date'],\n  errors = 'coerce')\n\ncustomer_returns = (customer_returns\n  .query('return_flag ==True')\n  .assign(month = lambda x: x['order_date'].dt.to_period('M'))\n  .set_index(['customer_id','order_date']))\n\nsumm = customer_returns.groupby(['month','customer_id']).size().reset_index()\nsumm"
    },
    {
      "cell_type": "markdown",
      "metadata": {},
      "source": [
        "Made with ❤️ by [Interview Master](https://www.interviewmaster.ai)"
      ]
    }
  ],
  "metadata": {
    "kernelspec": {
      "name": "python3",
      "language": "python",
      "display_name": "Python 3"
    },
    "language_info": {
      "name": "python",
      "version": "3",
      "mimetype": "text/x-python",
      "file_extension": ".py"
    }
  },
  "nbformat": 4,
  "nbformat_minor": 5
}