{
  "cells": [
    {
      "cell_type": "markdown",
      "metadata": {},
      "source": [
        "# Day 4: Search Results Page: User Interaction Patterns"
      ]
    },
    {
      "cell_type": "markdown",
      "metadata": {},
      "source": [
        "You are a Product Analyst on the Google Search team investigating user engagement with search result pages. The team wants to understand how different numbers of search results impact user interaction time. Your analysis will help optimize the current search results presentation strategy."
      ]
    },
    {
      "cell_type": "code",
      "metadata": {},
      "execution_count": null,
      "outputs": [],
      "source": "import pandas as pd\nimport numpy as np\n\nuser_engagement_data_data = [\n  {\n    \"user_id\": \"user_1\",\n    \"interaction_date\": \"2024-07-05\",\n    \"interaction_time\": 35.5,\n    \"search_results_displayed\": 10\n  },\n  {\n    \"user_id\": \"user_2\",\n    \"interaction_date\": \"2024-07-10\",\n    \"interaction_time\": 22.3,\n    \"search_results_displayed\": 5\n  },\n  {\n    \"user_id\": \"user_1\",\n    \"interaction_date\": \"2024-07-05\",\n    \"interaction_time\": 35.5,\n    \"search_results_displayed\": 10\n  },\n  {\n    \"user_id\": \"user_3\",\n    \"interaction_date\": \"2024-08-01\",\n    \"interaction_time\": 48,\n    \"search_results_displayed\": 15\n  },\n  {\n    \"user_id\": \"user_4\",\n    \"interaction_date\": \"2024-08-15\",\n    \"interaction_time\": null,\n    \"search_results_displayed\": 20\n  },\n  {\n    \"user_id\": \"user_5\",\n    \"interaction_date\": \"2024-09-05\",\n    \"interaction_time\": 60.2,\n    \"search_results_displayed\": 10\n  },\n  {\n    \"user_id\": \"user_6\",\n    \"interaction_date\": \"2024-10-10\",\n    \"interaction_time\": 12,\n    \"search_results_displayed\": 5\n  },\n  {\n    \"user_id\": \"user_7\",\n    \"interaction_date\": \"2024-11-20\",\n    \"interaction_time\": 80,\n    \"search_results_displayed\": 15\n  },\n  {\n    \"user_id\": \"user_8\",\n    \"interaction_date\": \"2024-12-31\",\n    \"interaction_time\": 55,\n    \"search_results_displayed\": 20\n  },\n  {\n    \"user_id\": \"user_9\",\n    \"interaction_date\": \"2025-01-15\",\n    \"interaction_time\": 75.5,\n    \"search_results_displayed\": 10\n  },\n  {\n    \"user_id\": \"user_10\",\n    \"interaction_date\": \"2025-02-20\",\n    \"interaction_time\": 30,\n    \"search_results_displayed\": 5\n  },\n  {\n    \"user_id\": \"user_2\",\n    \"interaction_date\": \"2024-07-10\",\n    \"interaction_time\": 22.3,\n    \"search_results_displayed\": 5\n  },\n  {\n    \"user_id\": \"user_11\",\n    \"interaction_date\": \"2025-03-01\",\n    \"interaction_time\": 92.5,\n    \"search_results_displayed\": 10\n  },\n  {\n    \"user_id\": \"user_12\",\n    \"interaction_date\": \"2025-03-05\",\n    \"interaction_time\": 15,\n    \"search_results_displayed\": 15\n  },\n  {\n    \"user_id\": \"user_13\",\n    \"interaction_date\": \"2025-03-10\",\n    \"interaction_time\": 45.3,\n    \"search_results_displayed\": 20\n  },\n  {\n    \"user_id\": \"user_14\",\n    \"interaction_date\": \"2025-03-15\",\n    \"interaction_time\": 5,\n    \"search_results_displayed\": 5\n  },\n  {\n    \"user_id\": \"user_15\",\n    \"interaction_date\": \"2025-03-20\",\n    \"interaction_time\": 68,\n    \"search_results_displayed\": 10\n  },\n  {\n    \"user_id\": \"user_16\",\n    \"interaction_date\": \"2025-03-25\",\n    \"interaction_time\": 110,\n    \"search_results_displayed\": 15\n  },\n  {\n    \"user_id\": \"user_17\",\n    \"interaction_date\": \"2025-04-01\",\n    \"interaction_time\": 29.9,\n    \"search_results_displayed\": 20\n  },\n  {\n    \"user_id\": \"user_18\",\n    \"interaction_date\": \"2025-04-05\",\n    \"interaction_time\": 150,\n    \"search_results_displayed\": 10\n  },\n  {\n    \"user_id\": \"user_19\",\n    \"interaction_date\": \"2025-04-10\",\n    \"interaction_time\": 33.3,\n    \"search_results_displayed\": 5\n  },\n  {\n    \"user_id\": \"user_20\",\n    \"interaction_date\": \"2025-04-15\",\n    \"interaction_time\": 25,\n    \"search_results_displayed\": 15\n  },\n  {\n    \"user_id\": \"user_21\",\n    \"interaction_date\": \"2025-04-20\",\n    \"interaction_time\": 40,\n    \"search_results_displayed\": 20\n  },\n  {\n    \"user_id\": \"user_22\",\n    \"interaction_date\": \"2025-04-25\",\n    \"interaction_time\": 85.5,\n    \"search_results_displayed\": 10\n  },\n  {\n    \"user_id\": \"user_23\",\n    \"interaction_date\": \"2025-04-30\",\n    \"interaction_time\": null,\n    \"search_results_displayed\": 5\n  },\n  {\n    \"user_id\": \"user_24\",\n    \"interaction_date\": \"2025-05-05\",\n    \"interaction_time\": 55.5,\n    \"search_results_displayed\": 15\n  },\n  {\n    \"user_id\": \"user_25\",\n    \"interaction_date\": \"2025-05-10\",\n    \"interaction_time\": 65,\n    \"search_results_displayed\": 20\n  },\n  {\n    \"user_id\": \"user_26\",\n    \"interaction_date\": \"2025-05-15\",\n    \"interaction_time\": 70,\n    \"search_results_displayed\": 10\n  },\n  {\n    \"user_id\": \"user_27\",\n    \"interaction_date\": \"2025-05-20\",\n    \"interaction_time\": 95,\n    \"search_results_displayed\": 5\n  },\n  {\n    \"user_id\": \"user_28\",\n    \"interaction_date\": \"2025-05-25\",\n    \"interaction_time\": 50,\n    \"search_results_displayed\": 15\n  },\n  {\n    \"user_id\": \"user_29\",\n    \"interaction_date\": \"2025-06-01\",\n    \"interaction_time\": 88,\n    \"search_results_displayed\": 20\n  },\n  {\n    \"user_id\": \"user_30\",\n    \"interaction_date\": \"2025-06-05\",\n    \"interaction_time\": 42,\n    \"search_results_displayed\": 10\n  },\n  {\n    \"user_id\": \"user_31\",\n    \"interaction_date\": \"2025-06-10\",\n    \"interaction_time\": 37,\n    \"search_results_displayed\": 5\n  },\n  {\n    \"user_id\": \"user_32\",\n    \"interaction_date\": \"2025-06-15\",\n    \"interaction_time\": 82,\n    \"search_results_displayed\": 15\n  },\n  {\n    \"user_id\": \"user_33\",\n    \"interaction_date\": \"2025-06-20\",\n    \"interaction_time\": 20,\n    \"search_results_displayed\": 20\n  },\n  {\n    \"user_id\": \"user_34\",\n    \"interaction_date\": \"2025-06-25\",\n    \"interaction_time\": 90,\n    \"search_results_displayed\": 10\n  },\n  {\n    \"user_id\": \"user_35\",\n    \"interaction_date\": \"2025-06-29\",\n    \"interaction_time\": 77,\n    \"search_results_displayed\": 5\n  },\n  {\n    \"user_id\": \"user_36\",\n    \"interaction_date\": \"2025-06-30\",\n    \"interaction_time\": 66.6,\n    \"search_results_displayed\": 15\n  },\n  {\n    \"user_id\": \"user_37\",\n    \"interaction_date\": \"2024-07-15\",\n    \"interaction_time\": 100,\n    \"search_results_displayed\": 20\n  },\n  {\n    \"user_id\": \"user_38\",\n    \"interaction_date\": \"2024-07-20\",\n    \"interaction_time\": 110.5,\n    \"search_results_displayed\": 10\n  },\n  {\n    \"user_id\": \"user_39\",\n    \"interaction_date\": \"2024-08-05\",\n    \"interaction_time\": 35,\n    \"search_results_displayed\": 5\n  },\n  {\n    \"user_id\": \"user_40\",\n    \"interaction_date\": \"2024-08-10\",\n    \"interaction_time\": 59.9,\n    \"search_results_displayed\": 15\n  },\n  {\n    \"user_id\": \"user_41\",\n    \"interaction_date\": \"2024-08-15\",\n    \"interaction_time\": 47.3,\n    \"search_results_displayed\": 20\n  },\n  {\n    \"user_id\": \"user_42\",\n    \"interaction_date\": \"2024-08-20\",\n    \"interaction_time\": null,\n    \"search_results_displayed\": 10\n  },\n  {\n    \"user_id\": \"user_43\",\n    \"interaction_date\": \"2024-09-01\",\n    \"interaction_time\": 68.5,\n    \"search_results_displayed\": 5\n  },\n  {\n    \"user_id\": \"user_44\",\n    \"interaction_date\": \"2024-09-05\",\n    \"interaction_time\": 72.7,\n    \"search_results_displayed\": 15\n  },\n  {\n    \"user_id\": \"user_45\",\n    \"interaction_date\": \"2024-09-10\",\n    \"interaction_time\": 55.5,\n    \"search_results_displayed\": 20\n  },\n  {\n    \"user_id\": \"user_46\",\n    \"interaction_date\": \"2024-09-15\",\n    \"interaction_time\": 62,\n    \"search_results_displayed\": 10\n  },\n  {\n    \"user_id\": \"user_47\",\n    \"interaction_date\": \"2024-09-20\",\n    \"interaction_time\": 40,\n    \"search_results_displayed\": 5\n  },\n  {\n    \"user_id\": \"user_48\",\n    \"interaction_date\": \"2024-09-25\",\n    \"interaction_time\": 85,\n    \"search_results_displayed\": 15\n  },\n  {\n    \"user_id\": \"user_49\",\n    \"interaction_date\": \"2024-10-01\",\n    \"interaction_time\": 95,\n    \"search_results_displayed\": 20\n  },\n  {\n    \"user_id\": \"user_50\",\n    \"interaction_date\": \"2024-10-05\",\n    \"interaction_time\": 33.3,\n    \"search_results_displayed\": 10\n  },\n  {\n    \"user_id\": \"user_51\",\n    \"interaction_date\": \"2024-10-10\",\n    \"interaction_time\": 44.4,\n    \"search_results_displayed\": 5\n  },\n  {\n    \"user_id\": \"user_52\",\n    \"interaction_date\": \"2024-10-15\",\n    \"interaction_time\": 88.8,\n    \"search_results_displayed\": 15\n  },\n  {\n    \"user_id\": \"user_53\",\n    \"interaction_date\": \"2024-10-20\",\n    \"interaction_time\": 76.5,\n    \"search_results_displayed\": 20\n  },\n  {\n    \"user_id\": \"user_54\",\n    \"interaction_date\": \"2024-10-25\",\n    \"interaction_time\": 90,\n    \"search_results_displayed\": 10\n  },\n  {\n    \"user_id\": \"user_55\",\n    \"interaction_date\": \"2024-10-30\",\n    \"interaction_time\": null,\n    \"search_results_displayed\": 5\n  },\n  {\n    \"user_id\": \"user_56\",\n    \"interaction_date\": \"2024-11-01\",\n    \"interaction_time\": 101,\n    \"search_results_displayed\": 15\n  },\n  {\n    \"user_id\": \"user_57\",\n    \"interaction_date\": \"2024-11-05\",\n    \"interaction_time\": 59,\n    \"search_results_displayed\": 20\n  },\n  {\n    \"user_id\": \"user_58\",\n    \"interaction_date\": \"2024-11-10\",\n    \"interaction_time\": 66,\n    \"search_results_displayed\": 10\n  }\n]\nuser_engagement_data = pd.DataFrame(user_engagement_data_data)\n"
    },
    {
      "cell_type": "markdown",
      "metadata": {},
      "source": [
        "## Question 1\n\nIdentify and remove any duplicate entries in the dataset to ensure data quality. How many duplicates were found and removed?"
      ]
    },
    {
      "cell_type": "code",
      "metadata": {},
      "execution_count": null,
      "outputs": [],
      "source": "# Note: pandas and numpy are already imported as pd and np\n# The following tables are loaded as pandas DataFrames with the same names: user_engagement_data\n# Please print your final result or dataframe\ndup_mask = user_engagement_data.duplicated(keep='first')\ndup = user_engagement_data[dup_mask]\nuser_engagement_data = user_engagement_data[~dup_mask]\n\nuser_engagement_data\nprint(len(dup))"
    },
    {
      "cell_type": "markdown",
      "metadata": {},
      "source": [
        "## Question 2\n\nAfter dropping duplicates, aggregate the data to find the average user interaction time for each number of search results displayed per page. What are the average interaction times?"
      ]
    },
    {
      "cell_type": "code",
      "metadata": {},
      "execution_count": null,
      "outputs": [],
      "source": "dup_mask = user_engagement_data.duplicated(keep='first')\ndup = user_engagement_data[dup_mask]\nuser_engagement_data = user_engagement_data[~dup_mask]\n\navg_time = user_engagement_data.groupby('search_results_displayed')['interaction_time'].mean().fillna(0).reset_index()\navg_time"
    },
    {
      "cell_type": "markdown",
      "metadata": {},
      "source": [
        "## Question 3\n\nSort the aggregated results from Q2 to determine which number of search results per page has the highest average user interaction time. What is the optimal number of search results per page?"
      ]
    },
    {
      "cell_type": "code",
      "metadata": {},
      "execution_count": null,
      "outputs": [],
      "source": "dup_mask = user_engagement_data.duplicated(keep='first')\ndup = user_engagement_data[dup_mask]\nuser_engagement_data = user_engagement_data[~dup_mask]\n\navg_time =user_engagement_data.groupby('search_results_displayed')['interaction_time'].mean().fillna(0).reset_index()\navg_time = avg_time.sort_values('interaction_time',ascending = False)\navg_time\n\navg_time.head(1)"
    },
    {
      "cell_type": "markdown",
      "metadata": {},
      "source": [
        "Made with ❤️ by [Interview Master](https://www.interviewmaster.ai)"
      ]
    }
  ],
  "metadata": {
    "kernelspec": {
      "name": "python3",
      "language": "python",
      "display_name": "Python 3"
    },
    "language_info": {
      "name": "python",
      "version": "3",
      "mimetype": "text/x-python",
      "file_extension": ".py"
    }
  },
  "nbformat": 4,
  "nbformat_minor": 5
}