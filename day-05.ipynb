{
  "cells": [
    {
      "cell_type": "markdown",
      "metadata": {},
      "source": [
        "# Day 5: Switch 2 Pre-sales Demand Forecasting"
      ]
    },
    {
      "cell_type": "markdown",
      "metadata": {},
      "source": [
        "You are a Product Analyst working with the Nintendo Switch 2 pre-sales team to analyze regional pre-order patterns and customer segmentation. Your team needs to understand how different demographics influence pre-sale volumes across regions. You will leverage historical pre-sale transaction data to extract meaningful insights that can guide marketing strategies."
      ]
    },
    {
      "cell_type": "code",
      "metadata": {},
      "execution_count": null,
      "outputs": [],
      "source": "import pandas as pd\nimport numpy as np\n\npre_sale_data_data = [\n  {\n    \"region\": \"North America\",\n    \"customer_id\": \"C001\",\n    \"pre_order_date\": \"2024-07-02\",\n    \"demographic_group\": \"Gamer\",\n    \"pre_order_quantity\": 1\n  },\n  {\n    \"region\": \"Europe\",\n    \"customer_id\": \"C002\",\n    \"pre_order_date\": \"2024-07-03\",\n    \"demographic_group\": \"Casual\",\n    \"pre_order_quantity\": 2\n  },\n  {\n    \"region\": \"Asia\",\n    \"customer_id\": \"C003\",\n    \"pre_order_date\": \"2024-07-04\",\n    \"demographic_group\": \"Tech Enthusiast\",\n    \"pre_order_quantity\": 1\n  },\n  {\n    \"region\": \"Latin America\",\n    \"customer_id\": \"C004\",\n    \"pre_order_date\": \"2024-07-05\",\n    \"demographic_group\": \"Family\",\n    \"pre_order_quantity\": 3\n  },\n  {\n    \"region\": \"Oceania\",\n    \"customer_id\": \"C005\",\n    \"pre_order_date\": \"2024-07-06\",\n    \"demographic_group\": \"Student\",\n    \"pre_order_quantity\": 2\n  },\n  {\n    \"region\": \"North America\",\n    \"customer_id\": \"C006\",\n    \"pre_order_date\": \"2024-07-07\",\n    \"demographic_group\": \"Gamer\",\n    \"pre_order_quantity\": 5\n  },\n  {\n    \"region\": \"Europe\",\n    \"customer_id\": \"C007\",\n    \"pre_order_date\": \"2024-07-08\",\n    \"demographic_group\": null,\n    \"pre_order_quantity\": 2\n  },\n  {\n    \"region\": null,\n    \"customer_id\": \"C008\",\n    \"pre_order_date\": \"2024-07-09\",\n    \"demographic_group\": \"Casual\",\n    \"pre_order_quantity\": 1\n  },\n  {\n    \"region\": \"Asia\",\n    \"customer_id\": \"C009\",\n    \"pre_order_date\": \"2024-07-10\",\n    \"demographic_group\": \"Family\",\n    \"pre_order_quantity\": 4\n  },\n  {\n    \"region\": \"North America\",\n    \"customer_id\": \"C010\",\n    \"pre_order_date\": \"2024-07-11\",\n    \"demographic_group\": \"Gamer\",\n    \"pre_order_quantity\": 1\n  },\n  {\n    \"region\": \"North America\",\n    \"customer_id\": \"C010\",\n    \"pre_order_date\": \"2024-07-11\",\n    \"demographic_group\": \"Gamer\",\n    \"pre_order_quantity\": 1\n  },\n  {\n    \"region\": \"Europe\",\n    \"customer_id\": \"C011\",\n    \"pre_order_date\": \"2024-07-12\",\n    \"demographic_group\": \"Student\",\n    \"pre_order_quantity\": 2\n  },\n  {\n    \"region\": \"Asia\",\n    \"customer_id\": \"C012\",\n    \"pre_order_date\": \"2024-07-13\",\n    \"demographic_group\": \"Casual\",\n    \"pre_order_quantity\": 3\n  },\n  {\n    \"region\": \"Latin America\",\n    \"customer_id\": \"C013\",\n    \"pre_order_date\": \"2024-07-14\",\n    \"demographic_group\": \"Tech Enthusiast\",\n    \"pre_order_quantity\": 2\n  },\n  {\n    \"region\": \"Oceania\",\n    \"customer_id\": \"C014\",\n    \"pre_order_date\": \"2024-07-15\",\n    \"demographic_group\": \"Gamer\",\n    \"pre_order_quantity\": 5\n  },\n  {\n    \"region\": \"North America\",\n    \"customer_id\": \"C015\",\n    \"pre_order_date\": \"2024-07-16\",\n    \"demographic_group\": \"Casual\",\n    \"pre_order_quantity\": 1\n  },\n  {\n    \"region\": \"Europe\",\n    \"customer_id\": \"C016\",\n    \"pre_order_date\": \"2024-07-17\",\n    \"demographic_group\": \"Family\",\n    \"pre_order_quantity\": 4\n  },\n  {\n    \"region\": \"Asia\",\n    \"customer_id\": \"C017\",\n    \"pre_order_date\": \"2024-07-18\",\n    \"demographic_group\": \"Student\",\n    \"pre_order_quantity\": 3\n  },\n  {\n    \"region\": \"Latin America\",\n    \"customer_id\": \"C018\",\n    \"pre_order_date\": \"2024-07-19\",\n    \"demographic_group\": \"Gamer\",\n    \"pre_order_quantity\": 1\n  },\n  {\n    \"region\": \"Oceania\",\n    \"customer_id\": \"C019\",\n    \"pre_order_date\": \"2024-07-20\",\n    \"demographic_group\": \"Tech Enthusiast\",\n    \"pre_order_quantity\": 2\n  },\n  {\n    \"region\": \"Oceania\",\n    \"customer_id\": \"C019\",\n    \"pre_order_date\": \"2024-07-20\",\n    \"demographic_group\": \"Tech Enthusiast\",\n    \"pre_order_quantity\": 2\n  },\n  {\n    \"region\": \"North America\",\n    \"customer_id\": \"C020\",\n    \"pre_order_date\": \"2024-07-21\",\n    \"demographic_group\": \"Family\",\n    \"pre_order_quantity\": 3\n  },\n  {\n    \"region\": \"Europe\",\n    \"customer_id\": \"C021\",\n    \"pre_order_date\": \"2024-07-22\",\n    \"demographic_group\": \"Gamer\",\n    \"pre_order_quantity\": 2\n  },\n  {\n    \"region\": \"Asia\",\n    \"customer_id\": \"C022\",\n    \"pre_order_date\": \"2024-07-23\",\n    \"demographic_group\": \"Casual\",\n    \"pre_order_quantity\": 1\n  },\n  {\n    \"region\": \"Latin America\",\n    \"customer_id\": \"C023\",\n    \"pre_order_date\": \"2024-07-24\",\n    \"demographic_group\": \"Student\",\n    \"pre_order_quantity\": 4\n  },\n  {\n    \"region\": \"Oceania\",\n    \"customer_id\": \"C024\",\n    \"pre_order_date\": \"2024-07-25\",\n    \"demographic_group\": \"Family\",\n    \"pre_order_quantity\": 2\n  },\n  {\n    \"region\": \"North America\",\n    \"customer_id\": \"C025\",\n    \"pre_order_date\": \"2024-07-26\",\n    \"demographic_group\": \"Tech Enthusiast\",\n    \"pre_order_quantity\": 1\n  },\n  {\n    \"region\": \"Europe\",\n    \"customer_id\": \"C026\",\n    \"pre_order_date\": \"2024-07-27\",\n    \"demographic_group\": \"Student\",\n    \"pre_order_quantity\": 5\n  },\n  {\n    \"region\": \"Asia\",\n    \"customer_id\": \"C027\",\n    \"pre_order_date\": \"2024-07-28\",\n    \"demographic_group\": \"Gamer\",\n    \"pre_order_quantity\": 2\n  },\n  {\n    \"region\": \"Latin America\",\n    \"customer_id\": \"C028\",\n    \"pre_order_date\": \"2024-07-29\",\n    \"demographic_group\": \"Casual\",\n    \"pre_order_quantity\": 3\n  },\n  {\n    \"region\": \"Oceania\",\n    \"customer_id\": \"C029\",\n    \"pre_order_date\": \"2024-07-30\",\n    \"demographic_group\": \"Family\",\n    \"pre_order_quantity\": 1\n  },\n  {\n    \"region\": \"North America\",\n    \"customer_id\": \"C030\",\n    \"pre_order_date\": \"2024-08-01\",\n    \"demographic_group\": \"Gamer\",\n    \"pre_order_quantity\": 1\n  },\n  {\n    \"region\": \"Asia\",\n    \"customer_id\": \"C031\",\n    \"pre_order_date\": \"2024-08-02\",\n    \"demographic_group\": null,\n    \"pre_order_quantity\": 2\n  },\n  {\n    \"region\": \"Latin America\",\n    \"customer_id\": \"C032\",\n    \"pre_order_date\": \"2024-08-03\",\n    \"demographic_group\": \"Tech Enthusiast\",\n    \"pre_order_quantity\": 3\n  },\n  {\n    \"region\": \"Oceania\",\n    \"customer_id\": \"C033\",\n    \"pre_order_date\": \"2024-08-04\",\n    \"demographic_group\": \"Student\",\n    \"pre_order_quantity\": 1\n  },\n  {\n    \"region\": \"North America\",\n    \"customer_id\": \"C034\",\n    \"pre_order_date\": \"2024-08-05\",\n    \"demographic_group\": \"Family\",\n    \"pre_order_quantity\": 4\n  },\n  {\n    \"region\": \"Europe\",\n    \"customer_id\": \"C035\",\n    \"pre_order_date\": \"2024-08-06\",\n    \"demographic_group\": \"Gamer\",\n    \"pre_order_quantity\": 2\n  },\n  {\n    \"region\": \"Asia\",\n    \"customer_id\": \"C036\",\n    \"pre_order_date\": \"2024-08-07\",\n    \"demographic_group\": \"Casual\",\n    \"pre_order_quantity\": 5\n  },\n  {\n    \"region\": \"Latin America\",\n    \"customer_id\": \"C037\",\n    \"pre_order_date\": \"2024-08-08\",\n    \"demographic_group\": \"Family\",\n    \"pre_order_quantity\": 1\n  },\n  {\n    \"region\": \"Oceania\",\n    \"customer_id\": \"C038\",\n    \"pre_order_date\": \"2024-08-09\",\n    \"demographic_group\": \"Tech Enthusiast\",\n    \"pre_order_quantity\": 2\n  },\n  {\n    \"region\": \"North America\",\n    \"customer_id\": \"C039\",\n    \"pre_order_date\": \"2024-08-10\",\n    \"demographic_group\": \"Student\",\n    \"pre_order_quantity\": 10\n  },\n  {\n    \"region\": \"Europe\",\n    \"customer_id\": \"C040\",\n    \"pre_order_date\": \"2024-08-11\",\n    \"demographic_group\": \"Family\",\n    \"pre_order_quantity\": 3\n  },\n  {\n    \"region\": \"Asia\",\n    \"customer_id\": \"C041\",\n    \"pre_order_date\": \"2024-08-12\",\n    \"demographic_group\": \"Gamer\",\n    \"pre_order_quantity\": 1\n  },\n  {\n    \"region\": \"Latin America\",\n    \"customer_id\": \"C042\",\n    \"pre_order_date\": \"2024-08-13\",\n    \"demographic_group\": \"Casual\",\n    \"pre_order_quantity\": 2\n  },\n  {\n    \"region\": \"Oceania\",\n    \"customer_id\": \"C043\",\n    \"pre_order_date\": \"2024-08-14\",\n    \"demographic_group\": \"Student\",\n    \"pre_order_quantity\": 5\n  },\n  {\n    \"region\": \"North America\",\n    \"customer_id\": \"C044\",\n    \"pre_order_date\": \"2024-08-15\",\n    \"demographic_group\": \"Tech Enthusiast\",\n    \"pre_order_quantity\": 2\n  },\n  {\n    \"region\": \"Europe\",\n    \"customer_id\": \"C045\",\n    \"pre_order_date\": \"2024-08-16\",\n    \"demographic_group\": \"Family\",\n    \"pre_order_quantity\": 1\n  },\n  {\n    \"region\": \"Asia\",\n    \"customer_id\": \"C046\",\n    \"pre_order_date\": \"2024-08-17\",\n    \"demographic_group\": \"Gamer\",\n    \"pre_order_quantity\": 3\n  },\n  {\n    \"region\": \"Latin America\",\n    \"customer_id\": \"C047\",\n    \"pre_order_date\": \"2024-08-18\",\n    \"demographic_group\": \"Casual\",\n    \"pre_order_quantity\": 2\n  },\n  {\n    \"region\": \"Oceania\",\n    \"customer_id\": \"C048\",\n    \"pre_order_date\": \"2024-08-19\",\n    \"demographic_group\": null,\n    \"pre_order_quantity\": 4\n  },\n  {\n    \"region\": \"North America\",\n    \"customer_id\": \"C049\",\n    \"pre_order_date\": \"2024-08-20\",\n    \"demographic_group\": \"Student\",\n    \"pre_order_quantity\": 1\n  },\n  {\n    \"region\": \"Europe\",\n    \"customer_id\": \"C050\",\n    \"pre_order_date\": \"2024-08-21\",\n    \"demographic_group\": \"Gamer\",\n    \"pre_order_quantity\": 2\n  },\n  {\n    \"region\": \"Asia\",\n    \"customer_id\": \"C051\",\n    \"pre_order_date\": \"2024-08-22\",\n    \"demographic_group\": \"Casual\",\n    \"pre_order_quantity\": 3\n  },\n  {\n    \"region\": \"Latin America\",\n    \"customer_id\": \"C052\",\n    \"pre_order_date\": \"2024-08-23\",\n    \"demographic_group\": \"Tech Enthusiast\",\n    \"pre_order_quantity\": 2\n  },\n  {\n    \"region\": \"Oceania\",\n    \"customer_id\": \"C053\",\n    \"pre_order_date\": \"2024-08-24\",\n    \"demographic_group\": \"Family\",\n    \"pre_order_quantity\": 1\n  },\n  {\n    \"region\": \"North America\",\n    \"customer_id\": \"C054\",\n    \"pre_order_date\": \"2024-08-25\",\n    \"demographic_group\": \"Gamer\",\n    \"pre_order_quantity\": 1\n  },\n  {\n    \"region\": \"Europe\",\n    \"customer_id\": \"C055\",\n    \"pre_order_date\": \"2024-08-26\",\n    \"demographic_group\": \"Casual\",\n    \"pre_order_quantity\": 2\n  },\n  {\n    \"region\": \"Asia\",\n    \"customer_id\": \"C056\",\n    \"pre_order_date\": \"2024-08-27\",\n    \"demographic_group\": \"Student\",\n    \"pre_order_quantity\": 3\n  },\n  {\n    \"region\": \"Latin America\",\n    \"customer_id\": \"C057\",\n    \"pre_order_date\": \"2024-08-28\",\n    \"demographic_group\": \"Family\",\n    \"pre_order_quantity\": 4\n  },\n  {\n    \"region\": \"Oceania\",\n    \"customer_id\": \"C058\",\n    \"pre_order_date\": \"2024-08-29\",\n    \"demographic_group\": \"Tech Enthusiast\",\n    \"pre_order_quantity\": 1\n  }\n]\npre_sale_data = pd.DataFrame(pre_sale_data_data)\n"
    },
    {
      "cell_type": "markdown",
      "metadata": {},
      "source": [
        "## Question 1\n\nWhat percentage of records have missing values in at least one column? Handle the missing values, so that we have a cleaned dataset to work with."
      ]
    },
    {
      "cell_type": "code",
      "metadata": {},
      "execution_count": null,
      "outputs": [],
      "source": "# Note: pandas and numpy are already imported as pd and np\n# The following tables are loaded as pandas DataFrames with the same names: pre_sale_data\n# Please print your final result or dataframe\n\n# missing_rec = pre_sale_data[pre_sale_data.isnull().any(axis=1)]\n# missing_rec = pre_sale_data.isnull().any(axis=1).mean() to calculate % directly, return decimals\n\npre_sale_data_cln = pre_sale_data.fillna('Unknown').drop_duplicates()\npre_sale_data_cln\nmissing_pct = pre_sale_data.isnull().any(axis=1).sum()/len(pre_sale_data)*100\nprint('percentage of records have missing values in at least one column is: {:2f}%.'.format(missing_pct))\n#print(f'percentage of records have missing values in at least one column is: {missing_pct:2f}%.')"
    },
    {
      "cell_type": "markdown",
      "metadata": {},
      "source": [
        "## Question 2\n\nUsing the cleaned data, calculate the total pre-sale orders per month for each region and demographic group."
      ]
    },
    {
      "cell_type": "code",
      "metadata": {},
      "execution_count": null,
      "outputs": [],
      "source": "pre_sale_data_cln = pre_sale_data.fillna('Unknown').drop_duplicates()\npre_sale_data_cln['pre_order_ym'] = pre_sale_data_cln['pre_order_date'].dt.strftime('%y-%m')\n\npre_sale_data_summ = pre_sale_data_cln.groupby(\n  ['pre_order_ym','region','demographic_group']\n)['pre_order_quantity'].sum().reset_index()\n\npre_sale_data_summ"
    },
    {
      "cell_type": "markdown",
      "metadata": {},
      "source": [
        "## Question 3\n\nPredict the total pre-sales quantity for each region for September 2024. Assume that growth rate from August to September, is the same as the growth rate from July to August in each region."
      ]
    },
    {
      "cell_type": "code",
      "metadata": {},
      "execution_count": null,
      "outputs": [],
      "source": "pre_sale_data_cln = pre_sale_data.fillna('Unknown').drop_duplicates()\npre_sale_data_cln['pre_order_ym'] = pre_sale_data_cln['pre_order_date'].dt.to_period('M')\npre_sale_data_summ = pre_sale_data_cln.groupby(\n  ['pre_order_ym','region']\n)['pre_order_quantity'].sum().reset_index()\n\npre_sale_data_summ2 = pre_sale_data_summ.pivot_table(index='region',columns = 'pre_order_ym',values = 'pre_order_quantity')\npre_sale_data_summ2.columns = pre_sale_data_summ2.columns.astype(str)\npre_sale_data_summ2 = pre_sale_data_summ2.fillna(0)\n\npre_sale_data_summ2 ['growth_rate'] =  pre_sale_data_summ2['2024-08']/pre_sale_data_summ2['2024-07'] -1 \npre_sale_data_summ2 ['sept_predict'] = (1 + pre_sale_data_summ2['growth_rate'].fillna(0)) * pre_sale_data_summ2['2024-08'].fillna(0)\n\npre_sale_data_summ3 = pre_sale_data_summ2[pre_sale_data_summ2['sept_predict']!=0]\npre_sale_data_summ3"
    },
    {
      "cell_type": "markdown",
      "metadata": {},
      "source": [
        "Made with ❤️ by [Interview Master](https://www.interviewmaster.ai)"
      ]
    }
  ],
  "metadata": {
    "kernelspec": {
      "name": "python3",
      "language": "python",
      "display_name": "Python 3"
    },
    "language_info": {
      "name": "python",
      "version": "3",
      "mimetype": "text/x-python",
      "file_extension": ".py"
    }
  },
  "nbformat": 4,
  "nbformat_minor": 5
}